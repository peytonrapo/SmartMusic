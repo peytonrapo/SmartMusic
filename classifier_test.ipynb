{
 "cells": [
  {
   "cell_type": "code",
   "execution_count": 216,
   "metadata": {},
   "outputs": [],
   "source": [
    "import numpy as np\n",
    "import xgboost as xgb\n",
    "from xgboost import XGBClassifier #, XGBRegressor\n",
    "from sklearn.model_selection import train_test_split\n",
    "from sklearn.metrics import accuracy_score\n",
    "import os"
   ]
  },
  {
   "cell_type": "code",
   "execution_count": 89,
   "metadata": {},
   "outputs": [],
   "source": [
    "class EEGEnjoymentClassifier:\n",
    "  \"\"\"\n",
    "  A class for predicting enjoyment levels using XGBoost regression based on EEG features.\n",
    "  \"\"\"\n",
    "  def __init__(self):\n",
    "    # Define model parameters (adjust as needed)\n",
    "    #self.model = XGBRegressor(n_estimators = 2, learning_rate = 0.3, max_depth = 5, objective = 'reg:squarederror')\n",
    "    self.model = XGBClassifier(n_estimators = 2, learning_rate = 0.3, max_depth = 5, objective = 'binary:logistic')\n",
    "    self.X_train_history = None\n",
    "    self.y_train_history = None \n",
    "    \n",
    "  def fit(self, X_train, y_train = None):\n",
    "    \"\"\"\n",
    "    Train the XGBoost model on EEG data (X) and optionally enjoyment levels (y).\n",
    "    If y is not given (i.e. post calibration), then it will self-classify the X for training purposes\n",
    "    and assume it has the ground truth\n",
    "\n",
    "    Args:\n",
    "      X: A numpy array of shape (n_samples, 5) where each row represents an EEG sample\n",
    "        with features (delta, theta, alpha, sigma, beta).\n",
    "      y: A numpy array of shape (n_samples,) containing enjoyment levels (continuous values).\n",
    "    \"\"\"\n",
    "    # If y_train is not provided, use classifyData to generate labels\n",
    "    # Implicitly assumes 1 datapoint\n",
    "    if y_train is None:\n",
    "      y_train = np.array(self.classifyData(X_train))\n",
    "    \n",
    "    if self.X_train_history is None:\n",
    "      self.X_train_history = X_train\n",
    "    else: \n",
    "      self.X_train_history = np.vstack([self.X_train_history, X_train])\n",
    "      \n",
    "    if self.y_train_history is None:\n",
    "      self.y_train_history = y_train\n",
    "    else:\n",
    "      self.y_train_history = np.hstack([self.y_train_history, y_train])\n",
    "      \n",
    "    print(\"X_train_history\", self.X_train_history.shape)\n",
    "    print(\"y_train_history\", self.y_train_history.shape)\n",
    "    \n",
    "    # Train the model\n",
    "    self.model.fit(self.X_train_history, self.y_train_history)\n",
    "    \n",
    "  def classifyData(self, brainData):\n",
    "    \"\"\"\n",
    "    Classify brain data (single sample) and return the predicted enjoyment level.\n",
    "\n",
    "    Args:\n",
    "      brainData: A numpy array of shape (5,) representing an EEG sample\n",
    "        with features (delta, theta, alpha, sigma, beta).\n",
    "\n",
    "    Returns:\n",
    "      A float representing the predicted enjoyment level.\n",
    "    \"\"\"\n",
    "    return self.model.predict(brainData)"
   ]
  },
  {
   "cell_type": "code",
   "execution_count": 219,
   "metadata": {},
   "outputs": [
    {
     "name": "stdout",
     "output_type": "stream",
     "text": [
      "(20, 16, 4)\n",
      "(20,)\n"
     ]
    }
   ],
   "source": [
    "# Grab files from preprocessing\\junk_data\n",
    "junk_data_folder = r\"preprocessing\\junk_data\"\n",
    "data_list = []\n",
    "for file in os.listdir(junk_data_folder):\n",
    "    # Load the CSV data into a NumPy array\n",
    "    data = np.genfromtxt(os.path.join(junk_data_folder, file), delimiter=\",\")\n",
    "    data_list.append(data)\n",
    "junk_data = np.stack(data_list[:-1], axis = 0) # (20, 16, 4) = samples, channels, features\n",
    "labels = data_list[-1][:,1] # assuming the labels are in order of filename appearance, and that 1 = liked, 0 = disliked\n",
    "print(junk_data.shape)\n",
    "print(labels.shape)"
   ]
  },
  {
   "cell_type": "code",
   "execution_count": 220,
   "metadata": {},
   "outputs": [
    {
     "name": "stdout",
     "output_type": "stream",
     "text": [
      "X_train_history (16, 64)\n",
      "y_train_history (16,)\n"
     ]
    }
   ],
   "source": [
    "# Generate dummy EEG data and enjoyment levels\n",
    "brain_data = junk_data.reshape(junk_data.shape[0],-1)  # 20 samples, 64 features (16 channels * [delta, theta, alpha, sigma])?\n",
    "enjoyment_levels = labels  # Enjoyment levels between 0 or 1\n",
    "X_train, X_test, y_train, y_test = train_test_split(brain_data, enjoyment_levels, test_size = 0.2, random_state=123)\n",
    "\n",
    "# Create and train the EEG enjoyment regressor\n",
    "classifier = EEGEnjoymentClassifier()\n",
    "classifier.fit(X_train, y_train)"
   ]
  },
  {
   "cell_type": "code",
   "execution_count": 221,
   "metadata": {},
   "outputs": [
    {
     "name": "stdout",
     "output_type": "stream",
     "text": [
      "Predicted enjoyment level: [1 1 0 1]\n",
      "Actual enjoyment level: [1. 1. 1. 1.]\n",
      "Accuracy 0.75\n"
     ]
    }
   ],
   "source": [
    "# Simulate real-time scenario with new brain data\n",
    "y_pred = classifier.classifyData(X_test)\n",
    "print(\"Predicted enjoyment level:\", y_pred)\n",
    "print(\"Actual enjoyment level:\", y_test)\n",
    "print(\"Accuracy\", accuracy_score(y_pred, y_test))"
   ]
  },
  {
   "cell_type": "code",
   "execution_count": 222,
   "metadata": {},
   "outputs": [
    {
     "name": "stdout",
     "output_type": "stream",
     "text": [
      "X_train_history (17, 64)\n",
      "y_train_history (17,)\n"
     ]
    }
   ],
   "source": [
    "# Retrain model with new data \n",
    "# (current implementation just considers a the first sample junk_data[0] as a new sample)\n",
    "# note that running this code multiple times will increase the whole training dataset used by the model\n",
    "classifier.fit(junk_data[0].reshape(1,-1))"
   ]
  },
  {
   "cell_type": "code",
   "execution_count": 223,
   "metadata": {},
   "outputs": [
    {
     "name": "stdout",
     "output_type": "stream",
     "text": [
      "Predicted enjoyment level: [1 1 0 1]\n",
      "Actual enjoyment level: [1. 1. 1. 1.]\n",
      "Accuracy 0.75\n"
     ]
    }
   ],
   "source": [
    "# Simulate real-time scenario with new brain data\n",
    "y_pred = classifier.classifyData(X_test)\n",
    "print(\"Predicted enjoyment level:\", y_pred)\n",
    "print(\"Actual enjoyment level:\", y_test)\n",
    "print(\"Accuracy\", accuracy_score(y_pred, y_test))"
   ]
  },
  {
   "cell_type": "code",
   "execution_count": 6,
   "metadata": {},
   "outputs": [],
   "source": [
    "# Dustin note: i dont remember what this code was for or if I even wrote it\n",
    "# Simulate receiving enjoyment feedback (loss can be calculated here)\n",
    "actual_enjoyment = 3.8  # Assume user provides actual enjoyment level (0-5)\n",
    "loss = abs(predicted_enjoyment - actual_enjoyment)  # Calculate a simple loss"
   ]
  }
 ],
 "metadata": {
  "kernelspec": {
   "display_name": "brainwave_project",
   "language": "python",
   "name": "python3"
  },
  "language_info": {
   "codemirror_mode": {
    "name": "ipython",
    "version": 3
   },
   "file_extension": ".py",
   "mimetype": "text/x-python",
   "name": "python",
   "nbconvert_exporter": "python",
   "pygments_lexer": "ipython3",
   "version": "3.10.0"
  }
 },
 "nbformat": 4,
 "nbformat_minor": 2
}
