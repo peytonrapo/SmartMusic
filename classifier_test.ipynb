{
 "cells": [
  {
   "cell_type": "code",
   "execution_count": 41,
   "metadata": {},
   "outputs": [],
   "source": [
    "import numpy as np\n",
    "import xgboost as xgb\n",
    "from xgboost import XGBClassifier, XGBRegressor"
   ]
  },
  {
   "cell_type": "code",
   "execution_count": 476,
   "metadata": {},
   "outputs": [],
   "source": [
    "class EEGEnjoymentRegressor:\n",
    "  \"\"\"\n",
    "  A class for predicting enjoyment levels using XGBoost regression based on EEG features.\n",
    "  \"\"\"\n",
    "  def __init__(self):\n",
    "    # Define model parameters (adjust as needed)\n",
    "    #self.model = XGBRegressor(n_estimators = 2, learning_rate = 0.3, max_depth = 5, objective = 'reg:squarederror')\n",
    "    self.model = XGBClassifier(n_estimators = 2, learning_rate = 0.3, max_depth = 5, objective = 'binary:logistic')\n",
    "    self.X_train_history = None\n",
    "    self.y_train_history = None \n",
    "    \n",
    "  def fit(self, X_train, y_train = None):\n",
    "    \"\"\"\n",
    "    Train the XGBoost model on EEG data (X) and enjoyment levels (y).\n",
    "\n",
    "    Args:\n",
    "      X: A numpy array of shape (n_samples, 5) where each row represents an EEG sample\n",
    "        with features (delta, theta, alpha, sigma, beta).\n",
    "      y: A numpy array of shape (n_samples,) containing enjoyment levels (continuous values).\n",
    "    \"\"\"\n",
    "    # If y_train is not provided, use classifyData to generate labels\n",
    "    # Implicitly assumes 1 datapoint\n",
    "    if y_train is None:\n",
    "      y_train = np.array(self.classifyData(X_train))\n",
    "    \n",
    "    if self.X_train_history is None:\n",
    "      self.X_train_history = X_train\n",
    "    else: \n",
    "      self.X_train_history = np.vstack([self.X_train_history, X_train])\n",
    "      \n",
    "    if self.y_train_history is None:\n",
    "      self.y_train_history = y_train\n",
    "    else:\n",
    "      self.y_train_history = np.hstack([self.y_train_history, y_train])\n",
    "      \n",
    "    print(self.X_train_history.shape)\n",
    "    print(self.y_train_history.shape)\n",
    "    # Train the model\n",
    "    self.model.fit(self.X_train_history, self.y_train_history)\n",
    "    \n",
    "  def classifyData(self, brainData):\n",
    "    \"\"\"\n",
    "    Classify brain data (single sample) and return the predicted enjoyment level.\n",
    "\n",
    "    Args:\n",
    "      brainData: A numpy array of shape (5,) representing an EEG sample\n",
    "        with features (delta, theta, alpha, sigma, beta).\n",
    "\n",
    "    Returns:\n",
    "      A float representing the predicted enjoyment level.\n",
    "    \"\"\"\n",
    "    return self.model.predict(brainData)"
   ]
  },
  {
   "cell_type": "code",
   "execution_count": 477,
   "metadata": {},
   "outputs": [
    {
     "name": "stdout",
     "output_type": "stream",
     "text": [
      "(100, 5)\n",
      "(100,)\n"
     ]
    }
   ],
   "source": [
    "# Generate dummy EEG data and enjoyment levels\n",
    "np.random.seed(32)\n",
    "brain_data = np.random.rand(100, 5)  # 100 samples, 5 features (delta, theta, alpha, sigma, beta)\n",
    "enjoyment_levels = np.random.rand(100)  # Enjoyment levels between 0 and 1\n",
    "enjoyment_levels = np.array([1 if val > 0.5 else 0 for val in enjoyment_levels])\n",
    "\n",
    "# Create and train the EEG enjoyment regressor\n",
    "regressor = EEGEnjoymentRegressor()\n",
    "regressor.fit(brain_data, enjoyment_levels)"
   ]
  },
  {
   "cell_type": "code",
   "execution_count": 478,
   "metadata": {},
   "outputs": [
    {
     "name": "stdout",
     "output_type": "stream",
     "text": [
      "Predicted enjoyment level: 0\n"
     ]
    }
   ],
   "source": [
    "# Simulate real-time scenario with new brain data\n",
    "new_brain_data = np.random.rand(1,5)  # New EEG sample\n",
    "\n",
    "# Classify new data and get enjoyment prediction\n",
    "predicted_enjoyment = regressor.classifyData(new_brain_data)[0]\n",
    "print(\"Predicted enjoyment level:\", predicted_enjoyment)"
   ]
  },
  {
   "cell_type": "code",
   "execution_count": 479,
   "metadata": {},
   "outputs": [
    {
     "name": "stdout",
     "output_type": "stream",
     "text": [
      "(101, 5)\n",
      "(101,)\n"
     ]
    }
   ],
   "source": [
    "# Retrain model with new data\n",
    "regressor.fit(new_brain_data)"
   ]
  },
  {
   "cell_type": "code",
   "execution_count": 416,
   "metadata": {},
   "outputs": [],
   "source": [
    "# Simulate receiving enjoyment feedback (loss can be calculated here)\n",
    "actual_enjoyment = 3.8  # Assume user provides actual enjoyment level (0-5)\n",
    "loss = abs(predicted_enjoyment - actual_enjoyment)  # Calculate a simple loss"
   ]
  },
  {
   "cell_type": "code",
   "execution_count": 480,
   "metadata": {},
   "outputs": [],
   "source": [
    "from sklearn.datasets import load_breast_cancer\n",
    "from sklearn.model_selection import train_test_split\n",
    "from sklearn.metrics import accuracy_score\n",
    "\n",
    "# Load the Iris dataset\n",
    "breast = load_breast_cancer()"
   ]
  },
  {
   "cell_type": "code",
   "execution_count": 481,
   "metadata": {},
   "outputs": [],
   "source": [
    "# Split the dataset into training and testing sets\n",
    "X_train, X_test, y_train, y_test = train_test_split(breast.data, breast.target, test_size=0.2, random_state=123)\n",
    "\n",
    "model = EEGEnjoymentRegressor()"
   ]
  },
  {
   "cell_type": "code",
   "execution_count": 482,
   "metadata": {},
   "outputs": [
    {
     "name": "stdout",
     "output_type": "stream",
     "text": [
      "(455, 30)\n",
      "(455,)\n"
     ]
    }
   ],
   "source": [
    "model.fit(X_train, y_train)"
   ]
  },
  {
   "cell_type": "markdown",
   "metadata": {},
   "source": [
    "Classification version (binary)"
   ]
  },
  {
   "cell_type": "code",
   "execution_count": 483,
   "metadata": {},
   "outputs": [
    {
     "name": "stdout",
     "output_type": "stream",
     "text": [
      "Accuracy: 0.9649122807017544\n"
     ]
    }
   ],
   "source": [
    "y_pred = model.classifyData(X_test)\n",
    "# Calculate accuracy\n",
    "accuracy = accuracy_score(y_test, y_pred)\n",
    "print(\"Accuracy:\", accuracy)"
   ]
  },
  {
   "cell_type": "markdown",
   "metadata": {},
   "source": [
    "Regression version (rounded)"
   ]
  },
  {
   "cell_type": "code",
   "execution_count": 475,
   "metadata": {},
   "outputs": [
    {
     "name": "stdout",
     "output_type": "stream",
     "text": [
      "(455, 30)\n",
      "(455,)\n",
      "Accuracy: 0.956140350877193\n"
     ]
    }
   ],
   "source": [
    "# Split the dataset into training and testing sets\n",
    "X_train, X_test, y_train, y_test = train_test_split(breast.data, breast.target, test_size=0.2, random_state=123)\n",
    "\n",
    "model = EEGEnjoymentRegressor()\n",
    "model.fit(X_train, y_train)\n",
    "y_pred = model.classifyData(X_test)\n",
    "# Calculate accuracy\n",
    "accuracy = accuracy_score(y_test, np.round(y_pred,0))\n",
    "print(\"Accuracy:\", accuracy)"
   ]
  }
 ],
 "metadata": {
  "kernelspec": {
   "display_name": "brainwave_project",
   "language": "python",
   "name": "python3"
  },
  "language_info": {
   "codemirror_mode": {
    "name": "ipython",
    "version": 3
   },
   "file_extension": ".py",
   "mimetype": "text/x-python",
   "name": "python",
   "nbconvert_exporter": "python",
   "pygments_lexer": "ipython3",
   "version": "3.10.0"
  }
 },
 "nbformat": 4,
 "nbformat_minor": 2
}
