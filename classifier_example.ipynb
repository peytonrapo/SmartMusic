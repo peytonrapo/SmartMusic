{
 "cells": [
  {
   "cell_type": "code",
   "execution_count": 9,
   "metadata": {},
   "outputs": [],
   "source": [
    "from Classifier import EEGEnjoymentClassifier\n",
    "import numpy as np\n",
    "from sklearn.model_selection import train_test_split\n",
    "from sklearn.metrics import accuracy_score\n",
    "import os"
   ]
  },
  {
   "cell_type": "code",
   "execution_count": 10,
   "metadata": {},
   "outputs": [
    {
     "name": "stdout",
     "output_type": "stream",
     "text": [
      "(20, 16, 4)\n",
      "(20,)\n"
     ]
    }
   ],
   "source": [
    "# Grab files from preprocessing\\junk_data\n",
    "junk_data_folder = r\"preprocessing\\junk_data\"\n",
    "data_list = []\n",
    "for file in os.listdir(junk_data_folder):\n",
    "    # Load the CSV data into a NumPy array\n",
    "    data = np.genfromtxt(os.path.join(junk_data_folder, file), delimiter=\",\")\n",
    "    data_list.append(data)\n",
    "junk_data = np.stack(data_list[:-1], axis = 0) # (20, 16, 4) = samples, channels, features\n",
    "labels = data_list[-1][:,1] # assuming the labels are in order of filename appearance, and that 1 = liked, 0 = disliked\n",
    "print(junk_data.shape)\n",
    "print(labels.shape)"
   ]
  },
  {
   "cell_type": "code",
   "execution_count": 11,
   "metadata": {},
   "outputs": [],
   "source": [
    "# Generate dummy EEG data and enjoyment levels\n",
    "brain_data = junk_data.reshape(junk_data.shape[0],-1)  # 20 samples, 64 features (16 channels * [delta, theta, alpha, sigma])?\n",
    "enjoyment_levels = labels  # Enjoyment levels between 0 or 1\n",
    "X_train, X_test, y_train, y_test = train_test_split(brain_data, enjoyment_levels, test_size = 0.2, random_state=123)\n",
    "\n",
    "# Create and train the EEG enjoyment regressor\n",
    "classifier = EEGEnjoymentClassifier()\n",
    "classifier.fit(X_train, y_train)"
   ]
  },
  {
   "cell_type": "code",
   "execution_count": 12,
   "metadata": {},
   "outputs": [
    {
     "name": "stdout",
     "output_type": "stream",
     "text": [
      "Predicted enjoyment level: [1 1 0 1]\n",
      "Actual enjoyment level: [1. 1. 1. 1.]\n",
      "Accuracy 0.75\n"
     ]
    }
   ],
   "source": [
    "# Simulate real-time scenario with new brain data\n",
    "y_pred = classifier.classifyData(X_test)\n",
    "print(\"Predicted enjoyment level:\", y_pred)\n",
    "print(\"Actual enjoyment level:\", y_test)\n",
    "print(\"Accuracy\", accuracy_score(y_pred, y_test))"
   ]
  },
  {
   "cell_type": "code",
   "execution_count": 13,
   "metadata": {},
   "outputs": [],
   "source": [
    "# Retrain model with new data \n",
    "# (current implementation just considers a the first sample junk_data[0] as a new sample)\n",
    "# note that running this code multiple times will increase the whole training dataset used by the model\n",
    "# i.e. X_train_history and y_train_history adds 1 sample each every time this code is run \n",
    "classifier.fit(junk_data[0].reshape(1,-1))"
   ]
  },
  {
   "cell_type": "code",
   "execution_count": 14,
   "metadata": {},
   "outputs": [
    {
     "name": "stdout",
     "output_type": "stream",
     "text": [
      "Predicted enjoyment level: [1 1 0 1]\n",
      "Actual enjoyment level: [1. 1. 1. 1.]\n",
      "Accuracy 0.75\n"
     ]
    }
   ],
   "source": [
    "# Simulate real-time scenario with new brain data\n",
    "y_pred = classifier.classifyData(X_test)\n",
    "print(\"Predicted enjoyment level:\", y_pred)\n",
    "print(\"Actual enjoyment level:\", y_test)\n",
    "print(\"Accuracy\", accuracy_score(y_pred, y_test))"
   ]
  },
  {
   "cell_type": "code",
   "execution_count": 6,
   "metadata": {},
   "outputs": [],
   "source": [
    "# Dustin note: i dont remember what this code was for or if I even wrote it\n",
    "# Simulate receiving enjoyment feedback (loss can be calculated here)\n",
    "actual_enjoyment = 3.8  # Assume user provides actual enjoyment level (0-5)\n",
    "loss = abs(predicted_enjoyment - actual_enjoyment)  # Calculate a simple loss"
   ]
  }
 ],
 "metadata": {
  "kernelspec": {
   "display_name": "brainwave_project",
   "language": "python",
   "name": "python3"
  },
  "language_info": {
   "codemirror_mode": {
    "name": "ipython",
    "version": 3
   },
   "file_extension": ".py",
   "mimetype": "text/x-python",
   "name": "python",
   "nbconvert_exporter": "python",
   "pygments_lexer": "ipython3",
   "version": "3.10.0"
  }
 },
 "nbformat": 4,
 "nbformat_minor": 2
}
